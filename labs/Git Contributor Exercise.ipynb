{
 "cells": [
  {
   "cell_type": "markdown",
   "metadata": {},
   "source": [
    "#Class 3 - Processing Files with Python\n",
    "###DATSF 19\n",
    "####Justin Breucop - 12/7/2015\n",
    "\n",
    "For a lot of data files in class we'll use functionality from various libraries to process data very quickly. However, for custom files, raw text, and data that is configured in a non-standard way, it is important to be able to extract data in a customized fashion. We'll go through this exercise using only libraries that come with the default python distribution. The first step will be to open the file in sublime.\n",
    "\n",
    "Let's say that we are curious about the latest release of ScikitLearn, since we are (or soon will be) frequent users. Our goal is to take the raw commits, sort our authors alphabetically and also count the number of contributions they made. Let's first look at the file. You can do this via the command line but for simplicity's sake we can use the Jupyter cell magic."
   ]
  },
  {
   "cell_type": "code",
   "execution_count": null,
   "metadata": {
    "collapsed": false
   },
   "outputs": [
    {
     "name": "stdout",
     "output_type": "stream",
     "text": [
      "\u001b[?1h\u001b=\r",
      "commit da4f480a6adf5fed30a42500fe0e5a21c404ac2a\r\n",
      "Author: Andreas Mueller <amueller@nyu.edu>\r\n",
      "Date:   Thu Nov 5 14:57:45 2015 -0500\r\n",
      "\r\n",
      "    Fix import of reload for python 3.3\r\n",
      "\r\n",
      "commit 45ef71f2175fe305152e20b1a6095c535b575b84\r\n",
      "Author: Andreas Mueller <amueller@nyu.edu>\r\n",
      "Date:   Thu Nov 5 14:31:45 2015 -0500\r\n",
      "\r\n",
      "    MAINT version string for 0.17. D'OH\r\n",
      "\r\n",
      "commit 37d18cef59a614661eb5afbadb9f8e1e124d685e\r\n",
      "Author: Andreas Mueller <amueller@nyu.edu>\r\n",
      "Date:   Wed Nov 4 14:28:25 2015 -0500\r\n",
      "\r\n",
      "    split installation into simple and advanced part\r\n",
      "\r\n",
      "commit 9334274305e8b9ef0273835a8a6b53ed0c1810c0\r\n",
      "Author: Andreas Mueller <t3kcit@gmail.com>\r\n",
      "Date:   Thu Nov 5 10:36:17 2015 -0500\r\n",
      "\r\n",
      "    skip unstable tests and doctests  on 32bit platform\r\n",
      "\u001b[7m../data/raw_commits.txt\u001b[m\u001b[K"
     ]
    }
   ],
   "source": [
    "# For Max/Linux users:\n",
    "! more ../data/raw_commits.txt\n",
    "\n",
    "# For windows users:\n",
    "# ! more ..\\data\\raw_commits.txt"
   ]
  },
  {
   "cell_type": "markdown",
   "metadata": {},
   "source": [
    "We see that each commit has an Author and a date. We need to be able to read the file line by line and add to a list of authors. Remember to use `with open('<filename>') as <variable>` where `<filename>` is the full path to the file and the `<variable>` is any identifier (such as `f`).\n",
    "\n",
    "##### Lines of file -> List of Strings"
   ]
  },
  {
   "cell_type": "code",
   "execution_count": null,
   "metadata": {
    "collapsed": true
   },
   "outputs": [],
   "source": [
    "# Open the file and try printing all lines that start with author\n",
    "\n",
    "# Make sure to append the author name to the list. You'll need to use string manipulation techniques."
   ]
  },
  {
   "cell_type": "code",
   "execution_count": null,
   "metadata": {
    "collapsed": true
   },
   "outputs": [],
   "source": [
    "authors_list =[]\n",
    "with open('../data/raw_commits.txt','r') as fh:\n",
    "    for line in fh:\n",
    "        if 'Author' in line:\n",
    "            print (line)\n",
    "            author_name = line.split()[1:3]\n",
    "            authors_list.append(author_name)\n",
    "        if 'Date' in line:\n",
    "            print (line)\n",
    "print (authors_list)"
   ]
  },
  {
   "cell_type": "code",
   "execution_count": null,
   "metadata": {
    "collapsed": true
   },
   "outputs": [],
   "source": []
  },
  {
   "cell_type": "markdown",
   "metadata": {},
   "source": [
    "Sort the authors to find the first and last authors, alphabetically. Make sure your data is clean! (No username should begin with an = sign, for example)\n",
    "\n",
    "#####List of Strings -> Sorted unique list"
   ]
  },
  {
   "cell_type": "code",
   "execution_count": null,
   "metadata": {
    "collapsed": false
   },
   "outputs": [],
   "source": [
    "# Think of what data types you can take advantage of"
   ]
  },
  {
   "cell_type": "markdown",
   "metadata": {},
   "source": [
    "To count out our data, we can loop over our list and construct a dictionary where the key is the commit author and the value increases whenever we match a key.\n",
    "#####List -> Dictionary"
   ]
  },
  {
   "cell_type": "code",
   "execution_count": null,
   "metadata": {
    "collapsed": true
   },
   "outputs": [],
   "source": []
  },
  {
   "cell_type": "markdown",
   "metadata": {},
   "source": [
    "Find the contributor with the highest number of commits. Useful dictionary method: `dict.get()`\n",
    "\n",
    "#####Dictionary -> Specific String"
   ]
  },
  {
   "cell_type": "code",
   "execution_count": null,
   "metadata": {
    "collapsed": false
   },
   "outputs": [],
   "source": []
  },
  {
   "cell_type": "markdown",
   "metadata": {},
   "source": [
    "Bonus: how do you handle a tie? Can you pull all authors with the lowest number of commits (without hardcoding the minimum)."
   ]
  },
  {
   "cell_type": "code",
   "execution_count": null,
   "metadata": {
    "collapsed": false
   },
   "outputs": [],
   "source": []
  }
 ],
 "metadata": {
  "kernelspec": {
   "display_name": "Python 3",
   "language": "python",
   "name": "python3"
  },
  "language_info": {
   "codemirror_mode": {
    "name": "ipython",
    "version": 3
   },
   "file_extension": ".py",
   "mimetype": "text/x-python",
   "name": "python",
   "nbconvert_exporter": "python",
   "pygments_lexer": "ipython3",
   "version": "3.4.2"
  }
 },
 "nbformat": 4,
 "nbformat_minor": 0
}
